{
 "cells": [
  {
   "cell_type": "code",
   "execution_count": 1,
   "metadata": {},
   "outputs": [],
   "source": [
    "import torch"
   ]
  },
  {
   "cell_type": "code",
   "execution_count": 2,
   "metadata": {},
   "outputs": [
    {
     "data": {
      "text/plain": [
       "tensor([[0.3092, 0.9521, 0.2571],\n",
       "        [0.0549, 0.5025, 0.8643],\n",
       "        [0.7962, 0.9771, 0.3439],\n",
       "        [0.0518, 0.7891, 0.7175],\n",
       "        [0.8741, 0.8973, 0.7059],\n",
       "        [0.2574, 0.8220, 0.8353],\n",
       "        [0.8676, 0.0105, 0.7783],\n",
       "        [0.5166, 0.6388, 0.1478],\n",
       "        [0.6120, 0.5034, 0.6623],\n",
       "        [0.4115, 0.7244, 0.8772],\n",
       "        [0.3937, 0.0986, 0.1440],\n",
       "        [0.6022, 0.7203, 0.4404],\n",
       "        [0.4982, 0.0484, 0.9086],\n",
       "        [0.1103, 0.8814, 0.5084],\n",
       "        [0.9809, 0.5017, 0.3119],\n",
       "        [0.3160, 0.5401, 0.6413]])"
      ]
     },
     "execution_count": 2,
     "metadata": {},
     "output_type": "execute_result"
    }
   ],
   "source": [
    "k = 2\n",
    "batch = torch.rand((16, 3))\n",
    "batch"
   ]
  },
  {
   "cell_type": "code",
   "execution_count": 3,
   "metadata": {},
   "outputs": [
    {
     "data": {
      "text/plain": [
       "5"
      ]
     },
     "execution_count": 3,
     "metadata": {},
     "output_type": "execute_result"
    }
   ],
   "source": [
    "partition_size = batch.size(0) // (k+1)\n",
    "partition_size"
   ]
  },
  {
   "cell_type": "code",
   "execution_count": 7,
   "metadata": {},
   "outputs": [
    {
     "data": {
      "text/plain": [
       "tensor([[0., 0., 0.],\n",
       "        [0., 0., 0.],\n",
       "        [0., 0., 0.],\n",
       "        [0., 0., 0.],\n",
       "        [0., 0., 0.],\n",
       "        [1., 1., 1.],\n",
       "        [1., 1., 1.],\n",
       "        [1., 1., 1.],\n",
       "        [1., 1., 1.],\n",
       "        [1., 1., 1.],\n",
       "        [2., 2., 2.],\n",
       "        [2., 2., 2.],\n",
       "        [2., 2., 2.],\n",
       "        [2., 2., 2.],\n",
       "        [2., 2., 2.],\n",
       "        [2., 2., 2.]])"
      ]
     },
     "execution_count": 7,
     "metadata": {},
     "output_type": "execute_result"
    }
   ],
   "source": [
    "for cur_k in range(k+1):\n",
    "    start_idx = partition_size * cur_k\n",
    "    end_idx = start_idx + partition_size\n",
    "    if cur_k != k:\n",
    "        batch[start_idx:end_idx] = cur_k\n",
    "    else:\n",
    "        batch[start_idx:] = cur_k # this gets max share\n",
    "batch"
   ]
  },
  {
   "cell_type": "code",
   "execution_count": null,
   "metadata": {},
   "outputs": [],
   "source": []
  }
 ],
 "metadata": {
  "kernelspec": {
   "display_name": "Python 3",
   "language": "python",
   "name": "python3"
  },
  "language_info": {
   "codemirror_mode": {
    "name": "ipython",
    "version": 3
   },
   "file_extension": ".py",
   "mimetype": "text/x-python",
   "name": "python",
   "nbconvert_exporter": "python",
   "pygments_lexer": "ipython3",
   "version": "3.7.8"
  }
 },
 "nbformat": 4,
 "nbformat_minor": 4
}
