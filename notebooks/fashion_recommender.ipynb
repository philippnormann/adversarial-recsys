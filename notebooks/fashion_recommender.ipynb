{
 "cells": [
  {
   "cell_type": "code",
   "execution_count": 1,
   "metadata": {},
   "outputs": [],
   "source": [
    "import copy\n",
    "from pathlib import Path\n",
    "import nmslib\n",
    "import torch\n",
    "import numpy as np\n",
    "import pandas as pd\n",
    "import matplotlib.pyplot as plt\n",
    "\n",
    "from PIL import Image\n",
    "from scipy import spatial\n",
    "\n",
    "import sys\n",
    "sys.path.append('../')\n",
    "\n",
    "from src.deepfashion.dataset import DeepFashionDataset, Split\n",
    "from src.helpers import create_index, get_nearest_neighbors, cos_dist, get_nearest_neighbors_batch"
   ]
  },
  {
   "cell_type": "markdown",
   "metadata": {},
   "source": [
    "## Create NMSLIB index for efficient k-NN search"
   ]
  },
  {
   "cell_type": "code",
   "execution_count": 2,
   "metadata": {},
   "outputs": [
    {
     "output_type": "execute_result",
     "data": {
      "text/plain": [
       "106649"
      ]
     },
     "metadata": {},
     "execution_count": 2
    }
   ],
   "source": [
    "model_name = 'normal-24-epochs'\n",
    "root_dir = '../data/DeepFashion/'\n",
    "fashion_dataset = DeepFashionDataset(root_dir=root_dir, split=Split.TEST)\n",
    "inital_index, article_embeddings = create_index(root_dir, model_name)\n",
    "\n",
    "len(article_embeddings)"
   ]
  },
  {
   "cell_type": "markdown",
   "metadata": {},
   "source": [
    "## Add adversarial examples"
   ]
  },
  {
   "cell_type": "code",
   "execution_count": 3,
   "metadata": {},
   "outputs": [
    {
     "output_type": "stream",
     "name": "stdout",
     "text": [
      "../results/attack/normal-24-epochs/cw/0.01/adversarial_examples.tsv\n"
     ]
    },
    {
     "output_type": "execute_result",
     "data": {
      "text/plain": [
       "106652"
      ]
     },
     "metadata": {},
     "execution_count": 3
    }
   ],
   "source": [
    "epsilon = \"0.01\"\n",
    "adv_embeddings = article_embeddings.copy()\n",
    "\n",
    "adv_path = f'../results/attack/{model_name}/cw/{epsilon}/adversarial_examples.tsv'\n",
    "print(adv_path)\n",
    "adv_embedding = pd.read_csv(adv_path, sep='\\t').set_index('image')\n",
    "adv_embeddings = adv_embeddings.append(adv_embedding)\n",
    "\n",
    "adv_path = f'../results/attack/{model_name}/fgsm/{epsilon}/adversarial_examples.tsv'\n",
    "adv_embedding = pd.read_csv(adv_path, sep='\\t').set_index('image')\n",
    "adv_embeddings = adv_embeddings.append(adv_embedding)\n",
    "\n",
    "adv_path = f'../results/attack/{model_name}/pgd/{epsilon}/adversarial_examples.tsv'\n",
    "adv_embedding = pd.read_csv(adv_path, sep='\\t').set_index('image')\n",
    "adv_embeddings = adv_embeddings.append(adv_embedding)\n",
    "\n",
    "len(adv_embeddings)"
   ]
  },
  {
   "cell_type": "code",
   "execution_count": 4,
   "metadata": {},
   "outputs": [],
   "source": [
    "adv_index = nmslib.init(method='hnsw', space='cosinesimil')\n",
    "adv_index.addDataPointBatch(adv_embeddings.values)\n",
    "adv_index.createIndex({'post': 2}, print_progress=True)"
   ]
  },
  {
   "cell_type": "markdown",
   "metadata": {},
   "source": [
    "## Query k-NN index"
   ]
  },
  {
   "cell_type": "code",
   "execution_count": 5,
   "metadata": {},
   "outputs": [],
   "source": [
    "def visualize_knn_reco(inital_index, adv_index, query_article, k=5):\n",
    "    print(query_article.name)\n",
    "    print(article_embeddings.index.get_loc(query_article.name))\n",
    "    query_vec = query_article.values\n",
    "    \n",
    "    initial_ids, initial_distances = inital_index.knnQuery(query_vec, 100_000+1)\n",
    "    initial_ids, initial_distances = initial_ids, initial_distances\n",
    "    \n",
    "    adv_ids, adv_distances = adv_index.knnQuery(query_vec, 100_000+1)\n",
    "    adv_ids, adv_distances = adv_ids, adv_distances\n",
    "    \n",
    "    ids = zip(initial_ids[1:], adv_ids[1:])\n",
    "    distances = zip(initial_distances[1:], adv_distances[1:])\n",
    "    \n",
    "    query_image_file = query_article.name\n",
    "    query_image = Image.open('../data/DeepFashion/' + query_image_file)\n",
    "    plt.imshow(query_image)\n",
    "    plt.title('Query image')\n",
    "    plt.show()\n",
    "    \n",
    "    for i, d in zip(ids, distances):\n",
    "        fig, axes = plt.subplots(1, 2)\n",
    "        \n",
    "        initial_image_file = article_embeddings.iloc[i[0]].name\n",
    "        print(article_embeddings.iloc[i[0]].name, d[0])\n",
    "\n",
    "        initial_image = Image.open('../data/DeepFashion/' + initial_image_file)\n",
    "        axes[0].imshow(initial_image)\n",
    "        axes[0].set_title(f'Cosine distance = {d[0]:.4f}')\n",
    "        \n",
    "        adv_image_file = adv_embeddings.iloc[i[1]].name\n",
    "        print(adv_embeddings.iloc[i[1]].name, d[1])\n",
    "\n",
    "        adv_image = Image.open('../data/DeepFashion/' + adv_image_file)\n",
    "        axes[1].imshow(adv_image)\n",
    "        axes[1].set_title(f'Cosine distance = {d[1]:.4f}')\n",
    "        \n",
    "        plt.show()"
   ]
  },
  {
   "cell_type": "code",
   "execution_count": 18,
   "metadata": {
    "tags": []
   },
   "outputs": [
    {
     "output_type": "stream",
     "name": "stdout",
     "text": [
      "img_resized/Striped_Textured_Sweater/img_00000024.jpg\n"
     ]
    },
    {
     "output_type": "error",
     "ename": "AttributeError",
     "evalue": "'DataFrame' object has no attribute 'get_loc'",
     "traceback": [
      "\u001b[0;31m---------------------------------------------------------------------------\u001b[0m",
      "\u001b[0;31mAttributeError\u001b[0m                            Traceback (most recent call last)",
      "\u001b[0;32m<ipython-input-18-b09ad275e870>\u001b[0m in \u001b[0;36m<module>\u001b[0;34m\u001b[0m\n\u001b[0;32m----> 1\u001b[0;31m \u001b[0mvisualize_knn_reco\u001b[0m\u001b[0;34m(\u001b[0m\u001b[0minital_index\u001b[0m\u001b[0;34m,\u001b[0m \u001b[0madv_index\u001b[0m\u001b[0;34m,\u001b[0m \u001b[0marticle_embeddings\u001b[0m\u001b[0;34m.\u001b[0m\u001b[0mloc\u001b[0m\u001b[0;34m[\u001b[0m\u001b[0;34m'img_resized/Striped_Textured_Sweater/img_00000024.jpg'\u001b[0m\u001b[0;34m]\u001b[0m\u001b[0;34m,\u001b[0m \u001b[0mk\u001b[0m\u001b[0;34m=\u001b[0m\u001b[0;36m5\u001b[0m\u001b[0;34m)\u001b[0m\u001b[0;34m\u001b[0m\u001b[0;34m\u001b[0m\u001b[0m\n\u001b[0m",
      "\u001b[0;32m<ipython-input-17-3774d637d366>\u001b[0m in \u001b[0;36mvisualize_knn_reco\u001b[0;34m(inital_index, adv_index, query_article, k)\u001b[0m\n\u001b[1;32m      1\u001b[0m \u001b[0;32mdef\u001b[0m \u001b[0mvisualize_knn_reco\u001b[0m\u001b[0;34m(\u001b[0m\u001b[0minital_index\u001b[0m\u001b[0;34m,\u001b[0m \u001b[0madv_index\u001b[0m\u001b[0;34m,\u001b[0m \u001b[0mquery_article\u001b[0m\u001b[0;34m,\u001b[0m \u001b[0mk\u001b[0m\u001b[0;34m=\u001b[0m\u001b[0;36m5\u001b[0m\u001b[0;34m)\u001b[0m\u001b[0;34m:\u001b[0m\u001b[0;34m\u001b[0m\u001b[0;34m\u001b[0m\u001b[0m\n\u001b[1;32m      2\u001b[0m     \u001b[0mprint\u001b[0m\u001b[0;34m(\u001b[0m\u001b[0mquery_article\u001b[0m\u001b[0;34m.\u001b[0m\u001b[0mname\u001b[0m\u001b[0;34m)\u001b[0m\u001b[0;34m\u001b[0m\u001b[0;34m\u001b[0m\u001b[0m\n\u001b[0;32m----> 3\u001b[0;31m     \u001b[0mprint\u001b[0m\u001b[0;34m(\u001b[0m\u001b[0marticle_embeddings\u001b[0m\u001b[0;34m.\u001b[0m\u001b[0mget_loc\u001b[0m\u001b[0;34m(\u001b[0m\u001b[0mquery_article\u001b[0m\u001b[0;34m.\u001b[0m\u001b[0mname\u001b[0m\u001b[0;34m)\u001b[0m\u001b[0;34m)\u001b[0m\u001b[0;34m\u001b[0m\u001b[0;34m\u001b[0m\u001b[0m\n\u001b[0m\u001b[1;32m      4\u001b[0m     \u001b[0mquery_vec\u001b[0m \u001b[0;34m=\u001b[0m \u001b[0mquery_article\u001b[0m\u001b[0;34m.\u001b[0m\u001b[0mvalues\u001b[0m\u001b[0;34m\u001b[0m\u001b[0;34m\u001b[0m\u001b[0m\n\u001b[1;32m      5\u001b[0m \u001b[0;34m\u001b[0m\u001b[0m\n",
      "\u001b[0;32m~/.local/share/virtualenvs/master-thesis-O-UFlab8/lib/python3.7/site-packages/pandas/core/generic.py\u001b[0m in \u001b[0;36m__getattr__\u001b[0;34m(self, name)\u001b[0m\n\u001b[1;32m   5137\u001b[0m             \u001b[0;32mif\u001b[0m \u001b[0mself\u001b[0m\u001b[0;34m.\u001b[0m\u001b[0m_info_axis\u001b[0m\u001b[0;34m.\u001b[0m\u001b[0m_can_hold_identifiers_and_holds_name\u001b[0m\u001b[0;34m(\u001b[0m\u001b[0mname\u001b[0m\u001b[0;34m)\u001b[0m\u001b[0;34m:\u001b[0m\u001b[0;34m\u001b[0m\u001b[0;34m\u001b[0m\u001b[0m\n\u001b[1;32m   5138\u001b[0m                 \u001b[0;32mreturn\u001b[0m \u001b[0mself\u001b[0m\u001b[0;34m[\u001b[0m\u001b[0mname\u001b[0m\u001b[0;34m]\u001b[0m\u001b[0;34m\u001b[0m\u001b[0;34m\u001b[0m\u001b[0m\n\u001b[0;32m-> 5139\u001b[0;31m             \u001b[0;32mreturn\u001b[0m \u001b[0mobject\u001b[0m\u001b[0;34m.\u001b[0m\u001b[0m__getattribute__\u001b[0m\u001b[0;34m(\u001b[0m\u001b[0mself\u001b[0m\u001b[0;34m,\u001b[0m \u001b[0mname\u001b[0m\u001b[0;34m)\u001b[0m\u001b[0;34m\u001b[0m\u001b[0;34m\u001b[0m\u001b[0m\n\u001b[0m\u001b[1;32m   5140\u001b[0m \u001b[0;34m\u001b[0m\u001b[0m\n\u001b[1;32m   5141\u001b[0m     \u001b[0;32mdef\u001b[0m \u001b[0m__setattr__\u001b[0m\u001b[0;34m(\u001b[0m\u001b[0mself\u001b[0m\u001b[0;34m,\u001b[0m \u001b[0mname\u001b[0m\u001b[0;34m:\u001b[0m \u001b[0mstr\u001b[0m\u001b[0;34m,\u001b[0m \u001b[0mvalue\u001b[0m\u001b[0;34m)\u001b[0m \u001b[0;34m->\u001b[0m \u001b[0;32mNone\u001b[0m\u001b[0;34m:\u001b[0m\u001b[0;34m\u001b[0m\u001b[0;34m\u001b[0m\u001b[0m\n",
      "\u001b[0;31mAttributeError\u001b[0m: 'DataFrame' object has no attribute 'get_loc'"
     ]
    }
   ],
   "source": [
    "visualize_knn_reco(inital_index, adv_index, article_embeddings.loc['img_resized/Striped_Textured_Sweater/img_00000024.jpg'], k=5)"
   ]
  },
  {
   "cell_type": "code",
   "execution_count": 74,
   "metadata": {},
   "outputs": [],
   "source": [
    "top_10_distances = []\n",
    "for idx, row in article_embeddings.iterrows():\n",
    "    top_10_distances.append(get_nearest_neighbors(inital_index, row, 10)[1])\n",
    "top_10_distances = np.array(top_10_distances)"
   ]
  },
  {
   "cell_type": "code",
   "execution_count": 75,
   "metadata": {},
   "outputs": [],
   "source": [
    "rank = 2"
   ]
  },
  {
   "cell_type": "code",
   "execution_count": 76,
   "metadata": {},
   "outputs": [
    {
     "data": {
      "text/plain": [
       "0.06579617"
      ]
     },
     "execution_count": 76,
     "metadata": {},
     "output_type": "execute_result"
    }
   ],
   "source": [
    "np.mean(top_10_distances[:,rank])"
   ]
  },
  {
   "cell_type": "code",
   "execution_count": 77,
   "metadata": {},
   "outputs": [
    {
     "data": {
      "text/plain": [
       "0.05973959"
      ]
     },
     "execution_count": 77,
     "metadata": {},
     "output_type": "execute_result"
    }
   ],
   "source": [
    "np.median(top_10_distances[:,rank])"
   ]
  },
  {
   "cell_type": "code",
   "execution_count": 78,
   "metadata": {},
   "outputs": [
    {
     "data": {
      "image/png": "[encoded data removed]",
      "text/plain": [
       "<Figure size 432x288 with 1 Axes>"
      ]
     },
     "metadata": {
      "needs_background": "light"
     },
     "output_type": "display_data"
    }
   ],
   "source": [
    "#import tikzplotlib\n",
    "plt.hist(top_10_distances[:,rank], bins=128)\n",
    "plt.show()\n",
    "#tikzplotlib.save(f'../results/figures/k5_distances_{model_name}.tex')"
   ]
  },
  {
   "cell_type": "code",
   "execution_count": 80,
   "metadata": {},
   "outputs": [
    {
     "data": {
      "text/plain": [
       "0.02192186117172241"
      ]
     },
     "execution_count": 80,
     "metadata": {},
     "output_type": "execute_result"
    }
   ],
   "source": [
    "np.percentile(top_10_distances[:,rank], 10)"
   ]
  },
  {
   "cell_type": "code",
   "execution_count": null,
   "metadata": {},
   "outputs": [],
   "source": []
  }
 ],
 "metadata": {
  "kernelspec": {
   "display_name": "Python 3",
   "language": "python",
   "name": "python3"
  },
  "language_info": {
   "codemirror_mode": {
    "name": "ipython",
    "version": 3
   },
   "file_extension": ".py",
   "mimetype": "text/x-python",
   "name": "python",
   "nbconvert_exporter": "python",
   "pygments_lexer": "ipython3",
   "version": "3.7.8-final"
  }
 },
 "nbformat": 4,
 "nbformat_minor": 4
}