{
 "cells": [
  {
   "cell_type": "code",
   "execution_count": 1,
   "metadata": {},
   "outputs": [],
   "source": [
    "import copy\n",
    "import torch\n",
    "import torch.nn as nn\n",
    "import torch.nn.functional as F\n",
    "import torch.optim as optim\n",
    "from torchvision import datasets, transforms, models\n",
    "import numpy as np\n",
    "import matplotlib.pyplot as plt"
   ]
  },
  {
   "cell_type": "code",
   "execution_count": 2,
   "metadata": {},
   "outputs": [],
   "source": [
    "train_dataset=datasets.FashionMNIST(root='../data',\n",
    "                             train=True,\n",
    "                             download=True,\n",
    "                             transform=transforms.ToTensor())\n",
    "\n",
    "test_dataset=datasets.FashionMNIST(root='../data',\n",
    "                            train=False,\n",
    "                            download=True,\n",
    "                            transform=transforms.ToTensor())"
   ]
  },
  {
   "cell_type": "code",
   "execution_count": 3,
   "metadata": {},
   "outputs": [],
   "source": [
    "batch_size = 32\n",
    "n_iters = 10_000\n",
    "num_epochs = int(n_iters * batch_size / len(train_dataset))\n",
    "train_loader = torch.utils.data.DataLoader(dataset=train_dataset, batch_size=batch_size, shuffle=True)\n",
    "test_loader = torch.utils.data.DataLoader(dataset=test_dataset, batch_size=batch_size, shuffle=False)"
   ]
  },
  {
   "cell_type": "code",
   "execution_count": 4,
   "metadata": {},
   "outputs": [],
   "source": [
    "class CNN(nn.Module):\n",
    "    def __init__(self):\n",
    "        super(CNN, self).__init__()\n",
    "        self.layer1 = nn.Sequential(\n",
    "            nn.Conv2d(1, 16, kernel_size=5, padding=2),\n",
    "            nn.ReLU(),\n",
    "            nn.MaxPool2d(2))\n",
    "        self.layer2 = nn.Sequential(\n",
    "            nn.Conv2d(16, 32, kernel_size=5, padding=2),\n",
    "            nn.ReLU(),\n",
    "            nn.MaxPool2d(2))\n",
    "        self.fc = nn.Linear(7*7*32, 10)\n",
    "        \n",
    "    def forward(self, x):\n",
    "        out = self.layer1(x)\n",
    "        out = self.layer2(out)\n",
    "        out = out.view(out.size(0), -1)\n",
    "        out = self.fc(out)\n",
    "        return out"
   ]
  },
  {
   "cell_type": "code",
   "execution_count": 5,
   "metadata": {},
   "outputs": [],
   "source": [
    "input_size = 28 * 28\n",
    "learning_rate = 0.001\n",
    "model = CNN()\n",
    "criterion = nn.CrossEntropyLoss()\n",
    "optimizer = torch.optim.Adam(model.parameters(), lr=learning_rate)"
   ]
  },
  {
   "cell_type": "code",
   "execution_count": 6,
   "metadata": {},
   "outputs": [
    {
     "name": "stdout",
     "output_type": "stream",
     "text": [
      "cuda:0\n"
     ]
    },
    {
     "data": {
      "text/plain": [
       "CNN(\n",
       "  (layer1): Sequential(\n",
       "    (0): Conv2d(1, 16, kernel_size=(5, 5), stride=(1, 1), padding=(2, 2))\n",
       "    (1): ReLU()\n",
       "    (2): MaxPool2d(kernel_size=2, stride=2, padding=0, dilation=1, ceil_mode=False)\n",
       "  )\n",
       "  (layer2): Sequential(\n",
       "    (0): Conv2d(16, 32, kernel_size=(5, 5), stride=(1, 1), padding=(2, 2))\n",
       "    (1): ReLU()\n",
       "    (2): MaxPool2d(kernel_size=2, stride=2, padding=0, dilation=1, ceil_mode=False)\n",
       "  )\n",
       "  (fc): Linear(in_features=1568, out_features=10, bias=True)\n",
       ")"
      ]
     },
     "execution_count": 6,
     "metadata": {},
     "output_type": "execute_result"
    }
   ],
   "source": [
    "device=('cuda:0' if torch.cuda.is_available() else 'cpu')\n",
    "print(device)\n",
    "model.to(device)"
   ]
  },
  {
   "cell_type": "code",
   "execution_count": 7,
   "metadata": {},
   "outputs": [
    {
     "name": "stdout",
     "output_type": "stream",
     "text": [
      "Loss  0.39330488443374634 Iteration  500  Accuracy  83.84\n",
      "Loss  0.22772394120693207 Iteration  1000  Accuracy  85.85\n",
      "Loss  0.3574296236038208 Iteration  1500  Accuracy  87.02\n",
      "Loss  0.08485358208417892 Iteration  2000  Accuracy  87.65\n",
      "Loss  0.18854564428329468 Iteration  2500  Accuracy  87.71\n",
      "Loss  0.2919601798057556 Iteration  3000  Accuracy  87.09\n",
      "Loss  0.2707226276397705 Iteration  3500  Accuracy  88.36\n",
      "Loss  0.21058616042137146 Iteration  4000  Accuracy  89.46\n",
      "Loss  0.3997375965118408 Iteration  4500  Accuracy  88.18\n",
      "Loss  0.1456291824579239 Iteration  5000  Accuracy  89.4\n",
      "Loss  0.4065867066383362 Iteration  5500  Accuracy  89.42\n",
      "Loss  0.1505652219057083 Iteration  6000  Accuracy  90.25\n",
      "Loss  0.41883933544158936 Iteration  6500  Accuracy  90.48\n",
      "Loss  0.26969361305236816 Iteration  7000  Accuracy  90.72\n",
      "Loss  0.13931933045387268 Iteration  7500  Accuracy  90.28\n",
      "Loss  0.06419845670461655 Iteration  8000  Accuracy  90.77\n",
      "Loss  0.10149126499891281 Iteration  8500  Accuracy  90.42\n",
      "Loss  0.22051970660686493 Iteration  9000  Accuracy  90.35\n"
     ]
    }
   ],
   "source": [
    "iter=0\n",
    "for epoch in range(num_epochs):\n",
    "    for i,(images,labels) in enumerate(train_loader):\n",
    "        images, labels=images.to(device),labels.to(device)\n",
    "        optimizer.zero_grad()\n",
    "        outputs=model(images)\n",
    "        loss=criterion(outputs,labels)\n",
    "        loss.backward()\n",
    "        optimizer.step()\n",
    "        iter+=1\n",
    "        if iter % 500 ==0:\n",
    "            correct=0\n",
    "            total=0\n",
    "            for images,labels in test_loader:\n",
    "                images,labels=images.to(device), labels.to(device)\n",
    "                outputs=model(images)\n",
    "                _,predictions=torch.max(outputs,1)\n",
    "                total+=images.size()[0]\n",
    "                correct+=(predictions==labels).sum()\n",
    "                accuracy=float(100*correct)/total\n",
    "         \n",
    "            print('Loss ', loss.item(), 'Iteration ', iter, ' Accuracy ', accuracy)"
   ]
  },
  {
   "cell_type": "markdown",
   "metadata": {},
   "source": [
    "# (Iterative) Fast Gradient Sign Attack \n",
    "Proposed by Goodfellow et. al. in Explaining and Harnessing Adversarial Examples"
   ]
  },
  {
   "cell_type": "code",
   "execution_count": 16,
   "metadata": {},
   "outputs": [],
   "source": [
    "def fgsm_attack(image, epsilon):\n",
    "    sign_data_grad = image.grad.sign()\n",
    "    perturbed_image = image + epsilon * sign_data_grad\n",
    "    perturbed_image = torch.clamp(perturbed_image, 0, 1)\n",
    "    return perturbed_image"
   ]
  },
  {
   "cell_type": "code",
   "execution_count": 17,
   "metadata": {},
   "outputs": [
    {
     "name": "stdout",
     "output_type": "stream",
     "text": [
      "Error Rate is  96.99\n"
     ]
    }
   ],
   "source": [
    "m = 16\n",
    "epsilon = 0.005\n",
    "images_all = list()\n",
    "adv_all = list()\n",
    "correct = 0\n",
    "total = 0\n",
    "\n",
    "for images,labels in test_loader:\n",
    "    images, labels = images.to(device), labels.to(device)\n",
    "    adversarial_images = copy.deepcopy(images)\n",
    "    \n",
    "    for i in range(m):\n",
    "        adversarial_images.requires_grad = True\n",
    "        model.zero_grad()\n",
    "        outputs = model(adversarial_images)\n",
    "        loss = criterion(outputs, labels)\n",
    "        loss.backward()\n",
    "        adversarial_images = fgsm_attack(adversarial_images, epsilon).detach()\n",
    "    \n",
    "    _, predictions = torch.max(model(images), 1)\n",
    "    _, adversarial_pred = torch.max(model(adversarial_images), 1)\n",
    "    \n",
    "    images_all.append([images.view(-1,28,28).detach().cpu().numpy(), labels])\n",
    "    adv_all.append([adversarial_images.view(-1,28,28).detach().cpu().numpy(), adversarial_pred])\n",
    "\n",
    "    correct += (labels==adversarial_pred).sum()\n",
    "    total += len(predictions)\n",
    "    \n",
    "print(\"Error Rate is \",float(total-correct)*100/total)"
   ]
  },
  {
   "cell_type": "code",
   "execution_count": 19,
   "metadata": {},
   "outputs": [
    {
     "name": "stdout",
     "output_type": "stream",
     "text": [
      "<class 'numpy.ndarray'> <class 'torch.Tensor'>\n"
     ]
    }
   ],
   "source": [
    "curr,label = images_all[0]\n",
    "currad,labelad = adv_all[0]\n",
    "print(type(curr), type(label))"
   ]
  },
  {
   "cell_type": "code",
   "execution_count": 20,
   "metadata": {},
   "outputs": [],
   "source": [
    "label_mapping =  { 0: 'T-shirt/top',\n",
    "                   1: 'Trouser',\n",
    "                   2: 'Pullover',\n",
    "                   3: 'Dress',\n",
    "                   4: 'Coat',\n",
    "                   5: 'Sandal',\n",
    "                   6: 'Shirt',\n",
    "                   7: 'Sneaker',\n",
    "                   8: 'Bag',\n",
    "                   9: 'Ankle boot'}"
   ]
  },
  {
   "cell_type": "code",
   "execution_count": 21,
   "metadata": {},
   "outputs": [
    {
     "name": "stdout",
     "output_type": "stream",
     "text": [
      "Original Label  Ankle boot  Adv Label  Sneaker\n"
     ]
    },
    {
     "data": {
      "image/png": "[encoded data removed]",
      "text/plain": [
       "<Figure size 432x288 with 2 Axes>"
      ]
     },
     "metadata": {
      "needs_background": "light"
     },
     "output_type": "display_data"
    },
    {
     "name": "stdout",
     "output_type": "stream",
     "text": [
      "Original Label  Pullover  Adv Label  Coat\n"
     ]
    },
    {
     "data": {
      "image/png": "[encoded data removed]",
      "text/plain": [
       "<Figure size 432x288 with 2 Axes>"
      ]
     },
     "metadata": {
      "needs_background": "light"
     },
     "output_type": "display_data"
    },
    {
     "name": "stdout",
     "output_type": "stream",
     "text": [
      "Original Label  Trouser  Adv Label  T-shirt/top\n"
     ]
    },
    {
     "data": {
      "image/png": "[encoded data removed]",
      "text/plain": [
       "<Figure size 432x288 with 2 Axes>"
      ]
     },
     "metadata": {
      "needs_background": "light"
     },
     "output_type": "display_data"
    },
    {
     "name": "stdout",
     "output_type": "stream",
     "text": [
      "Original Label  Trouser  Adv Label  Trouser\n"
     ]
    },
    {
     "data": {
      "image/png": "[encoded data removed]",
      "text/plain": [
       "<Figure size 432x288 with 2 Axes>"
      ]
     },
     "metadata": {
      "needs_background": "light"
     },
     "output_type": "display_data"
    },
    {
     "name": "stdout",
     "output_type": "stream",
     "text": [
      "Original Label  Shirt  Adv Label  T-shirt/top\n"
     ]
    },
    {
     "data": {
      "image/png": "[encoded data removed]",
      "text/plain": [
       "<Figure size 432x288 with 2 Axes>"
      ]
     },
     "metadata": {
      "needs_background": "light"
     },
     "output_type": "display_data"
    },
    {
     "name": "stdout",
     "output_type": "stream",
     "text": [
      "Original Label  Trouser  Adv Label  T-shirt/top\n"
     ]
    },
    {
     "data": {
      "image/png": "[encoded data removed]",
      "text/plain": [
       "<Figure size 432x288 with 2 Axes>"
      ]
     },
     "metadata": {
      "needs_background": "light"
     },
     "output_type": "display_data"
    },
    {
     "name": "stdout",
     "output_type": "stream",
     "text": [
      "Original Label  Coat  Adv Label  Shirt\n"
     ]
    },
    {
     "data": {
      "image/png": "[encoded data removed]",
      "text/plain": [
       "<Figure size 432x288 with 2 Axes>"
      ]
     },
     "metadata": {
      "needs_background": "light"
     },
     "output_type": "display_data"
    },
    {
     "name": "stdout",
     "output_type": "stream",
     "text": [
      "Original Label  Shirt  Adv Label  Coat\n"
     ]
    },
    {
     "data": {
      "image/png": "[encoded data removed]",
      "text/plain": [
       "<Figure size 432x288 with 2 Axes>"
      ]
     },
     "metadata": {
      "needs_background": "light"
     },
     "output_type": "display_data"
    },
    {
     "name": "stdout",
     "output_type": "stream",
     "text": [
      "Original Label  Sandal  Adv Label  Sneaker\n"
     ]
    },
    {
     "data": {
      "image/png": "[encoded data removed]",
      "text/plain": [
       "<Figure size 432x288 with 2 Axes>"
      ]
     },
     "metadata": {
      "needs_background": "light"
     },
     "output_type": "display_data"
    },
    {
     "name": "stdout",
     "output_type": "stream",
     "text": [
      "Original Label  Sneaker  Adv Label  Sandal\n"
     ]
    },
    {
     "data": {
      "image/png": "[encoded data removed]",
      "text/plain": [
       "<Figure size 432x288 with 2 Axes>"
      ]
     },
     "metadata": {
      "needs_background": "light"
     },
     "output_type": "display_data"
    },
    {
     "name": "stdout",
     "output_type": "stream",
     "text": [
      "Batch Error rate  96.875\n"
     ]
    }
   ],
   "source": [
    "for a in range(0,10,1):\n",
    "    plt.figure()\n",
    "    plt.subplot(121)\n",
    "    plt.imshow(curr[a],cmap='gray')\n",
    "    plt.subplot(122)\n",
    "    plt.imshow(currad[a],cmap='gray')\n",
    "    print(\"Original Label \", label_mapping[int(label[a].cpu().numpy())], \" Adv Label \",label_mapping[int(labelad[a].cpu().numpy())])\n",
    "    plt.show()\n",
    "    \n",
    "total=batch_size\n",
    "correct=(label==labelad).sum()\n",
    "print(\"Batch Error rate \",float(total-correct)*100/total)"
   ]
  },
  {
   "cell_type": "markdown",
   "metadata": {},
   "source": [
    "# Church Window Plots \n",
    "Proposed by Warde-Farley, David, and Ian Goodfellow. in \"11 adversarial perturbations of deep neural networks.\" Perturbations, Optimization, and Statistics (2016)"
   ]
  },
  {
   "cell_type": "code",
   "execution_count": 22,
   "metadata": {},
   "outputs": [],
   "source": [
    "#Finds the Ortonormal vector of a given input\n",
    "def ort_torch(x):\n",
    "    vert=torch.randn(x.shape).to(device)\n",
    "    vert-=torch.mul(vert,x)*x\n",
    "    vert/=torch.norm(vert)\n",
    "    return vert"
   ]
  },
  {
   "cell_type": "code",
   "execution_count": 14,
   "metadata": {},
   "outputs": [],
   "source": [
    "#Definining color for each class\n",
    "colors = [[134, 24, 194], # 0 --> purple to pink intense\n",
    " [ 44 ,170, 223], # 1 --> medium to light blue\n",
    " [247 , 45 ,186], # 2 --> intense darker barbie pink\n",
    " [139, 195 , 58], # 3 --> medium lime green\n",
    " [ 49 , 59 , 55], # 4 --> dark grey\n",
    " [ 83, 102  ,98], # 5 --> light grey\n",
    " [219 , 17 , 59], # 6 --> intense pinkish red\n",
    " [116 , 56 ,240], # 7 --> cold intense purple to blue\n",
    " [155 , 32,  81], # 8 --> dark rose\n",
    " [ 21 , 40, 213]] # 9 --> intense royal blue"
   ]
  },
  {
   "cell_type": "code",
   "execution_count": 15,
   "metadata": {},
   "outputs": [
    {
     "data": {
      "text/plain": [
       "<matplotlib.image.AxesImage at 0x7fa45240cd50>"
      ]
     },
     "execution_count": 15,
     "metadata": {},
     "output_type": "execute_result"
    },
    {
     "data": {
      "image/png": "[encoded data removed]",
      "text/plain": [
       "<Figure size 432x288 with 1 Axes>"
      ]
     },
     "metadata": {
      "needs_background": "light"
     },
     "output_type": "display_data"
    }
   ],
   "source": [
    "res=101\n",
    "window=0.5\n",
    "x=np.linspace(-window,window,res)\n",
    "y=np.linspace(-window,window,res)\n",
    "out=np.zeros([res,res,3],dtype=np.uint8)\n",
    "data_loader=torch.utils.data.DataLoader(test_dataset, batch_size=1,\n",
    "                                       shuffle=True)\n",
    "for image,label in data_loader:\n",
    "    image,label=image.to(device),label.to(device)\n",
    "    image.requires_grad_()\n",
    "    output=model(image)\n",
    "    _,prediction=torch.max(output,1)\n",
    "    \n",
    "    loss=criterion(output,label)\n",
    "    loss.backward()\n",
    "    adv_direction=image.grad\n",
    "    adv_normal=ort_torch(adv_direction)\n",
    "    adv_direction=torch.sign(adv_direction)\n",
    "    adv_normal=torch.sign(adv_normal)\n",
    "    \n",
    "    for a in range(y.size):\n",
    "        for b in range(x.size):\n",
    "            update=y[a]*adv_normal+x[b]*adv_direction\n",
    "            update=update.to(device)\n",
    "            image_adv=torch.clamp(image.detach()+update,0,1)\n",
    "            _,adv_out=torch.max(model(image_adv),1)\n",
    "            if(adv_out==label):\n",
    "                out[a][b]=[255,255,255]\n",
    "            else:\n",
    "                out[a][b]=colors[adv_out]\n",
    "    break\n",
    "\n",
    "plt.imshow(out,extent=[-window,window,-window,window])"
   ]
  },
  {
   "cell_type": "code",
   "execution_count": null,
   "metadata": {},
   "outputs": [],
   "source": []
  }
 ],
 "metadata": {
  "kernelspec": {
   "display_name": "Python 3",
   "language": "python",
   "name": "python3"
  },
  "language_info": {
   "codemirror_mode": {
    "name": "ipython",
    "version": 3
   },
   "file_extension": ".py",
   "mimetype": "text/x-python",
   "name": "python",
   "nbconvert_exporter": "python",
   "pygments_lexer": "ipython3",
   "version": "3.7.8"
  }
 },
 "nbformat": 4,
 "nbformat_minor": 4
}
