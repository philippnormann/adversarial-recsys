{
 "cells": [
  {
   "cell_type": "code",
   "execution_count": null,
   "metadata": {},
   "outputs": [],
   "source": [
    "from sklearn.manifold import TSNE\n",
    "from PIL import Image\n",
    "import pandas as pd\n",
    "import numpy as np\n",
    "import matplotlib.pyplot as plt"
   ]
  },
  {
   "cell_type": "code",
   "execution_count": null,
   "metadata": {},
   "outputs": [],
   "source": [
    "model_name = 'curriculum-adversarial-8-k'\n",
    "embedding_path = '../data/DeepFashion/vectors/' + model_name + '.tsv.gz'\n",
    "article_embeddings = pd.read_csv(embedding_path, sep='\\t')\n",
    "article_embeddings.head()"
   ]
  },
  {
   "cell_type": "code",
   "execution_count": null,
   "metadata": {},
   "outputs": [],
   "source": [
    "sample = article_embeddings.sample(10000, random_state=42)\n",
    "images = sample.image.values\n",
    "x = sample.iloc[:,1:].values\n",
    "tsne = TSNE(n_components=2, learning_rate=100, perplexity=16, n_iter=5000, early_exaggeration=48, metric='cosine', random_state=42).fit_transform(x)\n",
    "tx, ty = tsne[:,0], tsne[:,1]\n",
    "tx = (tx-np.min(tx)) / (np.max(tx) - np.min(tx))\n",
    "ty = (ty-np.min(ty)) / (np.max(ty) - np.min(ty))\n",
    "plt.scatter(tx, ty)"
   ]
  },
  {
   "cell_type": "code",
   "execution_count": null,
   "metadata": {},
   "outputs": [],
   "source": [
    "height = 10000\n",
    "width = int(height*1.6)\n",
    "\n",
    "max_dim = 190\n",
    "padding = 100\n",
    "spacing = 10\n",
    "\n",
    "grid = True\n",
    "\n",
    "visible_imgs = 0\n",
    "pos_visited = set()\n",
    "full_image = Image.new('RGB', (width+padding*2, height+padding*2), (255, 255, 255))\n",
    "\n",
    "for img, x, y in zip(images, tx, ty):\n",
    "    x_pos = int((width - tile.width) * x)\n",
    "    y_pos = int((height - tile.height) * (1-y))\n",
    "    \n",
    "    if grid:\n",
    "        x_pos = x_pos - (x_pos % (max_dim + spacing))\n",
    "        y_pos = y_pos - (y_pos % (max_dim + spacing))\n",
    "        \n",
    "    pos = (x_pos + padding, y_pos + padding)\n",
    "    \n",
    "    if pos not in pos_visited:\n",
    "        tile = Image.open('../data/DeepFashion/' + img)\n",
    "        rs = max(1, tile.width/max_dim, tile.height/max_dim)\n",
    "        tile = tile.resize((int(tile.width/rs), int(tile.height/rs)), Image.ANTIALIAS)\n",
    "        full_image.paste(tile, pos)\n",
    "        pos_visited.add(pos)\n",
    "        visible_imgs += 1\n",
    "\n",
    "full_image.save('../results/figures/tsne/' + model_name + '.jpg')\n",
    "full_image"
   ]
  },
  {
   "cell_type": "code",
   "execution_count": null,
   "metadata": {},
   "outputs": [],
   "source": [
    "visible_imgs"
   ]
  },
  {
   "cell_type": "code",
   "execution_count": null,
   "metadata": {},
   "outputs": [],
   "source": []
  }
 ],
 "metadata": {
  "kernelspec": {
   "display_name": "Python 3",
   "language": "python",
   "name": "python3"
  },
  "language_info": {
   "codemirror_mode": {
    "name": "ipython",
    "version": 3
   },
   "file_extension": ".py",
   "mimetype": "text/x-python",
   "name": "python",
   "nbconvert_exporter": "python",
   "pygments_lexer": "ipython3",
   "version": "3.9.0"
  }
 },
 "nbformat": 4,
 "nbformat_minor": 4
}
